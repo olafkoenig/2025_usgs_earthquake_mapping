{
 "cells": [
  {
   "cell_type": "markdown",
   "id": "ab1e886f",
   "metadata": {},
   "source": [
    "# Script Get DEM with R\n",
    "\n",
    "Script qui utilise elevatr pour aller cherche un DEM puis en faire quelque chose de beau avec GDAL."
   ]
  },
  {
   "cell_type": "code",
   "execution_count": 2,
   "id": "9d2a0c34",
   "metadata": {},
   "outputs": [
    {
     "name": "stdout",
     "output_type": "stream",
     "text": [
      "The rpy2.ipython extension is already loaded. To reload it, use:\n",
      "  %reload_ext rpy2.ipython\n"
     ]
    }
   ],
   "source": [
    "# Activer l'extension rpy2\n",
    "%load_ext rpy2.ipython"
   ]
  }
 ],
 "metadata": {
  "kernelspec": {
   "display_name": "Python 3",
   "language": "python",
   "name": "python3"
  },
  "language_info": {
   "codemirror_mode": {
    "name": "ipython",
    "version": 3
   },
   "file_extension": ".py",
   "mimetype": "text/x-python",
   "name": "python",
   "nbconvert_exporter": "python",
   "pygments_lexer": "ipython3",
   "version": "3.12.2"
  }
 },
 "nbformat": 4,
 "nbformat_minor": 5
}
